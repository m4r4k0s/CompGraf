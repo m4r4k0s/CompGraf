{
 "cells": [
  {
   "cell_type": "code",
   "execution_count": 1,
   "id": "bcaee0a7-b1b9-4476-880e-9d647bdbf740",
   "metadata": {},
   "outputs": [],
   "source": [
    "import numpy as np\n",
    "import pandas as pd\n",
    "import sklearn"
   ]
  },
  {
   "cell_type": "markdown",
   "id": "2d736578-0474-4c90-a6a3-c3d001379d85",
   "metadata": {},
   "source": [
    "Считываение данных из файла"
   ]
  },
  {
   "cell_type": "code",
   "execution_count": 2,
   "id": "e7b66a01-9eac-4191-95d8-5ddf7d8884ae",
   "metadata": {},
   "outputs": [],
   "source": [
    "file = open(\"mart_export.txt\", \"r\")\n",
    "data = [line[:-1] for line in file]"
   ]
  },
  {
   "cell_type": "markdown",
   "id": "75e418dc-64f0-445c-87ef-3e80c0265165",
   "metadata": {},
   "source": [
    "Перевод данных в тип set для избавления повторяющихся последовательностей"
   ]
  },
  {
   "cell_type": "code",
   "execution_count": 3,
   "id": "790700fb-2761-491e-b3d3-60d3f0b56c5a",
   "metadata": {},
   "outputs": [],
   "source": [
    "data_set = set(data)\n",
    "data_fin = list(data_set)"
   ]
  },
  {
   "cell_type": "markdown",
   "id": "981c10ce-0a43-44bd-b3bf-aaeedd32e084",
   "metadata": {},
   "source": [
    "Обработка данных"
   ]
  },
  {
   "cell_type": "code",
   "execution_count": 4,
   "id": "f23df100-4e5b-4892-b27f-d449e1f76686",
   "metadata": {},
   "outputs": [
    {
     "data": {
      "text/plain": [
       "1164973"
      ]
     },
     "execution_count": 4,
     "metadata": {},
     "output_type": "execute_result"
    }
   ],
   "source": [
    "i = 0\n",
    "while True:\n",
    "    if len(data_fin[i]) < 11:\n",
    "        data_fin.pop(i)\n",
    "    elif data_fin[i][0] == '>':\n",
    "        data_fin.pop(i)\n",
    "    elif data_fin[i][0] == 'N':\n",
    "        data_fin.pop(i)\n",
    "    elif data_fin[i][0] == 'S' and data_fin[i][1] == 'e':\n",
    "        data_fin.pop(i)\n",
    "    else:\n",
    "        i = i+1\n",
    "    if i == len(data_fin) -1:\n",
    "        break\n",
    "data_fin.pop(35578)\n",
    "len(data_fin)\n"
   ]
  },
  {
   "cell_type": "markdown",
   "id": "a2a890b6-292e-4056-b015-f89b8115149d",
   "metadata": {},
   "source": [
    "Подготовка данных для применения бустинга (первоначальная идея)"
   ]
  },
  {
   "cell_type": "code",
   "execution_count": 152,
   "id": "a7db54ca-4b6c-4275-9479-ea5cef4d4769",
   "metadata": {},
   "outputs": [],
   "source": [
    "data_fina = []\n",
    "for i in range(len(data_fin)):\n",
    "    data_fin[i] = data_fin[i].replace('A','1')\n",
    "    data_fin[i] = data_fin[i].replace('C','2')\n",
    "    data_fin[i] = data_fin[i].replace('T','3')\n",
    "    data_fin[i] = data_fin[i].replace('G','4')\n",
    "    if len(data_fin[i]) == 11 : \n",
    "        pos = 6\n",
    "    else:\n",
    "        pos = np.random.randint(6, (len(data_fin[i])// 2) + 1)\n",
    "    data_fina.append(list(data_fin[i] +'0'*(63 - len(data_fin[i]))))\n",
    "    data_fina[i][-1] = data_fina[i][pos]\n",
    "    data_fina[i][-2] = str(pos)\n",
    "    data_fina[i][pos] = '0'\n",
    "data_final = np.array(data_fina, dtype = int)"
   ]
  },
  {
   "cell_type": "code",
   "execution_count": 153,
   "id": "d4fb097e-e933-47b5-b3fd-d295a5d56bd3",
   "metadata": {},
   "outputs": [
    {
     "data": {
      "text/plain": [
       "(1164973, 63)"
      ]
     },
     "execution_count": 153,
     "metadata": {},
     "output_type": "execute_result"
    }
   ],
   "source": [
    "data_final.shape"
   ]
  },
  {
   "cell_type": "code",
   "execution_count": 154,
   "id": "e6257136-9b72-4b59-a6ff-217deea5b323",
   "metadata": {},
   "outputs": [],
   "source": [
    "table = pd.DataFrame(data_final)"
   ]
  },
  {
   "cell_type": "code",
   "execution_count": 155,
   "id": "6a425a76-b1bb-4f78-aea6-579e29318ddd",
   "metadata": {},
   "outputs": [
    {
     "data": {
      "text/html": [
       "<div>\n",
       "<style scoped>\n",
       "    .dataframe tbody tr th:only-of-type {\n",
       "        vertical-align: middle;\n",
       "    }\n",
       "\n",
       "    .dataframe tbody tr th {\n",
       "        vertical-align: top;\n",
       "    }\n",
       "\n",
       "    .dataframe thead th {\n",
       "        text-align: right;\n",
       "    }\n",
       "</style>\n",
       "<table border=\"1\" class=\"dataframe\">\n",
       "  <thead>\n",
       "    <tr style=\"text-align: right;\">\n",
       "      <th></th>\n",
       "      <th>0</th>\n",
       "      <th>1</th>\n",
       "      <th>2</th>\n",
       "      <th>3</th>\n",
       "      <th>4</th>\n",
       "      <th>5</th>\n",
       "      <th>6</th>\n",
       "      <th>7</th>\n",
       "      <th>8</th>\n",
       "      <th>9</th>\n",
       "      <th>...</th>\n",
       "      <th>53</th>\n",
       "      <th>54</th>\n",
       "      <th>55</th>\n",
       "      <th>56</th>\n",
       "      <th>57</th>\n",
       "      <th>58</th>\n",
       "      <th>59</th>\n",
       "      <th>60</th>\n",
       "      <th>position</th>\n",
       "      <th>letter_is_drop</th>\n",
       "    </tr>\n",
       "  </thead>\n",
       "  <tbody>\n",
       "    <tr>\n",
       "      <th>0</th>\n",
       "      <td>1</td>\n",
       "      <td>4</td>\n",
       "      <td>2</td>\n",
       "      <td>1</td>\n",
       "      <td>1</td>\n",
       "      <td>4</td>\n",
       "      <td>4</td>\n",
       "      <td>2</td>\n",
       "      <td>3</td>\n",
       "      <td>4</td>\n",
       "      <td>...</td>\n",
       "      <td>4</td>\n",
       "      <td>4</td>\n",
       "      <td>4</td>\n",
       "      <td>1</td>\n",
       "      <td>2</td>\n",
       "      <td>3</td>\n",
       "      <td>3</td>\n",
       "      <td>0</td>\n",
       "      <td>24</td>\n",
       "      <td>2</td>\n",
       "    </tr>\n",
       "    <tr>\n",
       "      <th>1</th>\n",
       "      <td>1</td>\n",
       "      <td>3</td>\n",
       "      <td>2</td>\n",
       "      <td>3</td>\n",
       "      <td>2</td>\n",
       "      <td>1</td>\n",
       "      <td>4</td>\n",
       "      <td>1</td>\n",
       "      <td>1</td>\n",
       "      <td>2</td>\n",
       "      <td>...</td>\n",
       "      <td>2</td>\n",
       "      <td>3</td>\n",
       "      <td>4</td>\n",
       "      <td>4</td>\n",
       "      <td>4</td>\n",
       "      <td>2</td>\n",
       "      <td>2</td>\n",
       "      <td>0</td>\n",
       "      <td>20</td>\n",
       "      <td>4</td>\n",
       "    </tr>\n",
       "    <tr>\n",
       "      <th>2</th>\n",
       "      <td>2</td>\n",
       "      <td>1</td>\n",
       "      <td>1</td>\n",
       "      <td>3</td>\n",
       "      <td>1</td>\n",
       "      <td>3</td>\n",
       "      <td>2</td>\n",
       "      <td>3</td>\n",
       "      <td>3</td>\n",
       "      <td>4</td>\n",
       "      <td>...</td>\n",
       "      <td>1</td>\n",
       "      <td>1</td>\n",
       "      <td>3</td>\n",
       "      <td>3</td>\n",
       "      <td>1</td>\n",
       "      <td>1</td>\n",
       "      <td>1</td>\n",
       "      <td>0</td>\n",
       "      <td>23</td>\n",
       "      <td>3</td>\n",
       "    </tr>\n",
       "    <tr>\n",
       "      <th>3</th>\n",
       "      <td>2</td>\n",
       "      <td>3</td>\n",
       "      <td>4</td>\n",
       "      <td>4</td>\n",
       "      <td>1</td>\n",
       "      <td>3</td>\n",
       "      <td>4</td>\n",
       "      <td>2</td>\n",
       "      <td>3</td>\n",
       "      <td>4</td>\n",
       "      <td>...</td>\n",
       "      <td>1</td>\n",
       "      <td>2</td>\n",
       "      <td>1</td>\n",
       "      <td>4</td>\n",
       "      <td>4</td>\n",
       "      <td>4</td>\n",
       "      <td>1</td>\n",
       "      <td>0</td>\n",
       "      <td>14</td>\n",
       "      <td>4</td>\n",
       "    </tr>\n",
       "    <tr>\n",
       "      <th>4</th>\n",
       "      <td>4</td>\n",
       "      <td>1</td>\n",
       "      <td>3</td>\n",
       "      <td>4</td>\n",
       "      <td>4</td>\n",
       "      <td>4</td>\n",
       "      <td>4</td>\n",
       "      <td>4</td>\n",
       "      <td>2</td>\n",
       "      <td>3</td>\n",
       "      <td>...</td>\n",
       "      <td>2</td>\n",
       "      <td>2</td>\n",
       "      <td>1</td>\n",
       "      <td>4</td>\n",
       "      <td>2</td>\n",
       "      <td>3</td>\n",
       "      <td>2</td>\n",
       "      <td>0</td>\n",
       "      <td>23</td>\n",
       "      <td>4</td>\n",
       "    </tr>\n",
       "    <tr>\n",
       "      <th>...</th>\n",
       "      <td>...</td>\n",
       "      <td>...</td>\n",
       "      <td>...</td>\n",
       "      <td>...</td>\n",
       "      <td>...</td>\n",
       "      <td>...</td>\n",
       "      <td>...</td>\n",
       "      <td>...</td>\n",
       "      <td>...</td>\n",
       "      <td>...</td>\n",
       "      <td>...</td>\n",
       "      <td>...</td>\n",
       "      <td>...</td>\n",
       "      <td>...</td>\n",
       "      <td>...</td>\n",
       "      <td>...</td>\n",
       "      <td>...</td>\n",
       "      <td>...</td>\n",
       "      <td>...</td>\n",
       "      <td>...</td>\n",
       "      <td>...</td>\n",
       "    </tr>\n",
       "    <tr>\n",
       "      <th>1164968</th>\n",
       "      <td>2</td>\n",
       "      <td>1</td>\n",
       "      <td>2</td>\n",
       "      <td>3</td>\n",
       "      <td>4</td>\n",
       "      <td>3</td>\n",
       "      <td>4</td>\n",
       "      <td>4</td>\n",
       "      <td>4</td>\n",
       "      <td>4</td>\n",
       "      <td>...</td>\n",
       "      <td>2</td>\n",
       "      <td>4</td>\n",
       "      <td>4</td>\n",
       "      <td>4</td>\n",
       "      <td>4</td>\n",
       "      <td>3</td>\n",
       "      <td>4</td>\n",
       "      <td>0</td>\n",
       "      <td>13</td>\n",
       "      <td>1</td>\n",
       "    </tr>\n",
       "    <tr>\n",
       "      <th>1164969</th>\n",
       "      <td>3</td>\n",
       "      <td>3</td>\n",
       "      <td>2</td>\n",
       "      <td>2</td>\n",
       "      <td>1</td>\n",
       "      <td>3</td>\n",
       "      <td>1</td>\n",
       "      <td>2</td>\n",
       "      <td>2</td>\n",
       "      <td>2</td>\n",
       "      <td>...</td>\n",
       "      <td>3</td>\n",
       "      <td>3</td>\n",
       "      <td>3</td>\n",
       "      <td>4</td>\n",
       "      <td>2</td>\n",
       "      <td>1</td>\n",
       "      <td>2</td>\n",
       "      <td>0</td>\n",
       "      <td>21</td>\n",
       "      <td>3</td>\n",
       "    </tr>\n",
       "    <tr>\n",
       "      <th>1164970</th>\n",
       "      <td>4</td>\n",
       "      <td>3</td>\n",
       "      <td>1</td>\n",
       "      <td>4</td>\n",
       "      <td>2</td>\n",
       "      <td>2</td>\n",
       "      <td>2</td>\n",
       "      <td>0</td>\n",
       "      <td>3</td>\n",
       "      <td>4</td>\n",
       "      <td>...</td>\n",
       "      <td>3</td>\n",
       "      <td>4</td>\n",
       "      <td>1</td>\n",
       "      <td>1</td>\n",
       "      <td>1</td>\n",
       "      <td>3</td>\n",
       "      <td>2</td>\n",
       "      <td>0</td>\n",
       "      <td>7</td>\n",
       "      <td>1</td>\n",
       "    </tr>\n",
       "    <tr>\n",
       "      <th>1164971</th>\n",
       "      <td>3</td>\n",
       "      <td>3</td>\n",
       "      <td>4</td>\n",
       "      <td>4</td>\n",
       "      <td>3</td>\n",
       "      <td>4</td>\n",
       "      <td>3</td>\n",
       "      <td>3</td>\n",
       "      <td>4</td>\n",
       "      <td>4</td>\n",
       "      <td>...</td>\n",
       "      <td>3</td>\n",
       "      <td>4</td>\n",
       "      <td>4</td>\n",
       "      <td>3</td>\n",
       "      <td>1</td>\n",
       "      <td>1</td>\n",
       "      <td>4</td>\n",
       "      <td>0</td>\n",
       "      <td>11</td>\n",
       "      <td>2</td>\n",
       "    </tr>\n",
       "    <tr>\n",
       "      <th>1164972</th>\n",
       "      <td>2</td>\n",
       "      <td>1</td>\n",
       "      <td>4</td>\n",
       "      <td>2</td>\n",
       "      <td>2</td>\n",
       "      <td>2</td>\n",
       "      <td>4</td>\n",
       "      <td>1</td>\n",
       "      <td>4</td>\n",
       "      <td>2</td>\n",
       "      <td>...</td>\n",
       "      <td>4</td>\n",
       "      <td>2</td>\n",
       "      <td>3</td>\n",
       "      <td>2</td>\n",
       "      <td>1</td>\n",
       "      <td>3</td>\n",
       "      <td>2</td>\n",
       "      <td>0</td>\n",
       "      <td>29</td>\n",
       "      <td>4</td>\n",
       "    </tr>\n",
       "  </tbody>\n",
       "</table>\n",
       "<p>1164973 rows × 63 columns</p>\n",
       "</div>"
      ],
      "text/plain": [
       "         0  1  2  3  4  5  6  7  8  9  ...  53  54  55  56  57  58  59  60  \\\n",
       "0        1  4  2  1  1  4  4  2  3  4  ...   4   4   4   1   2   3   3   0   \n",
       "1        1  3  2  3  2  1  4  1  1  2  ...   2   3   4   4   4   2   2   0   \n",
       "2        2  1  1  3  1  3  2  3  3  4  ...   1   1   3   3   1   1   1   0   \n",
       "3        2  3  4  4  1  3  4  2  3  4  ...   1   2   1   4   4   4   1   0   \n",
       "4        4  1  3  4  4  4  4  4  2  3  ...   2   2   1   4   2   3   2   0   \n",
       "...     .. .. .. .. .. .. .. .. .. ..  ...  ..  ..  ..  ..  ..  ..  ..  ..   \n",
       "1164968  2  1  2  3  4  3  4  4  4  4  ...   2   4   4   4   4   3   4   0   \n",
       "1164969  3  3  2  2  1  3  1  2  2  2  ...   3   3   3   4   2   1   2   0   \n",
       "1164970  4  3  1  4  2  2  2  0  3  4  ...   3   4   1   1   1   3   2   0   \n",
       "1164971  3  3  4  4  3  4  3  3  4  4  ...   3   4   4   3   1   1   4   0   \n",
       "1164972  2  1  4  2  2  2  4  1  4  2  ...   4   2   3   2   1   3   2   0   \n",
       "\n",
       "         position  letter_is_drop  \n",
       "0              24               2  \n",
       "1              20               4  \n",
       "2              23               3  \n",
       "3              14               4  \n",
       "4              23               4  \n",
       "...           ...             ...  \n",
       "1164968        13               1  \n",
       "1164969        21               3  \n",
       "1164970         7               1  \n",
       "1164971        11               2  \n",
       "1164972        29               4  \n",
       "\n",
       "[1164973 rows x 63 columns]"
      ]
     },
     "execution_count": 155,
     "metadata": {},
     "output_type": "execute_result"
    }
   ],
   "source": [
    "coll = list(table.columns)\n",
    "coll[-2] = 'position'\n",
    "coll[-1] = 'letter_is_drop'\n",
    "table.columns = coll\n",
    "table"
   ]
  },
  {
   "cell_type": "code",
   "execution_count": 156,
   "id": "c73086fb-8a80-48a8-9f63-a43fa2107153",
   "metadata": {},
   "outputs": [],
   "source": [
    "table.to_csv('date.csv')\n"
   ]
  },
  {
   "cell_type": "markdown",
   "id": "4a38758e-e5f8-493b-9b54-a372586d6488",
   "metadata": {},
   "source": [
    "Подготовка функции языковой модели)"
   ]
  },
  {
   "cell_type": "code",
   "execution_count": 14,
   "id": "bb1f2c35-ad35-496a-8dfa-7b3906c6087b",
   "metadata": {},
   "outputs": [],
   "source": [
    "from collections import defaultdict, Counter\n",
    "import numpy as np\n",
    "import pandas as pd\n",
    "\n",
    "class LanguageNgramModel:\n",
    "\n",
    "    def __init__(self, order=1, smoothing=1.0, recursive=0.001):\n",
    "        self.order = order\n",
    "        self.smoothing = smoothing\n",
    "        self.recursive = recursive\n",
    "\n",
    "    def fit(self, corpus):\n",
    "        self.counter_ = defaultdict(lambda: Counter())\n",
    "        self.vocabulary_ = set()\n",
    "        for i, token in enumerate(corpus[self.order:]):\n",
    "            context = corpus[i:(i+self.order)]\n",
    "            self.counter_[context][token] += 1\n",
    "            self.vocabulary_.add(token)\n",
    "        self.vocabulary_ = sorted(list(self.vocabulary_))\n",
    "        if self.recursive > 0 and self.order > 0:\n",
    "            self.child_ = LanguageNgramModel(self.order-1, self.smoothing, self.recursive)\n",
    "            self.child_.fit(corpus)\n",
    "\n",
    "    def get_counts(self, context):\n",
    "        if self.order:\n",
    "            local = context[-self.order:]\n",
    "        else:\n",
    "            local = ''\n",
    "        freq_dict = self.counter_[local]\n",
    "        freq = pd.Series(index=self.vocabulary_)\n",
    "        for i, token in enumerate(self.vocabulary_):\n",
    "            freq[token] = freq_dict[token] + self.smoothing\n",
    "        if self.recursive > 0 and self.order > 0:\n",
    "            child_freq = self.child_.get_counts(context) * self.recursive\n",
    "            freq += child_freq\n",
    "        return freq\n",
    "\n",
    "    def predict_proba(self, context):\n",
    "        counts = self.get_counts(context)\n",
    "        return counts / counts.sum()\n",
    "\n",
    "    def single_log_proba(self, context, continuation):\n",
    "        result = 0.0\n",
    "        for token in continuation:\n",
    "            result += np.log(self.predict_proba(context)[token])\n",
    "            context += token\n",
    "        return result\n",
    "\n",
    "    def single_proba(self, context, continuation):\n",
    "        return np.exp(self.single_log_proba(context, continuation))"
   ]
  },
  {
   "cell_type": "markdown",
   "id": "87830e51-4ecf-4bd5-83ba-e5963afcaaf4",
   "metadata": {},
   "source": [
    "При тестировании обнаружились строки с буквой N. Поэтому дополнительная провека и удаление"
   ]
  },
  {
   "cell_type": "code",
   "execution_count": 21,
   "id": "3634ac60-c489-4084-9bd3-fcb90ca9f964",
   "metadata": {},
   "outputs": [
    {
     "data": {
      "text/plain": [
       "'GANCCGGCGCCCTGGTCTGCANTCCCCTGCGGCCTGCTGCTGGATGAGCTCCTGGCGAGC'"
      ]
     },
     "execution_count": 21,
     "metadata": {},
     "output_type": "execute_result"
    }
   ],
   "source": [
    "data_fin.pop(318451)"
   ]
  },
  {
   "cell_type": "code",
   "execution_count": 20,
   "id": "13802913-4a07-4ac4-99f1-d8dd04290e49",
   "metadata": {},
   "outputs": [
    {
     "name": "stdout",
     "output_type": "stream",
     "text": [
      "318451\n",
      "GANCCGGCGCCCTGGTCTGCANTCCCCTGCGGCCTGCTGCTGGATGAGCTCCTGGCGAGC\n",
      "318451\n",
      "GANCCGGCGCCCTGGTCTGCANTCCCCTGCGGCCTGCTGCTGGATGAGCTCCTGGCGAGC\n"
     ]
    }
   ],
   "source": [
    "for i in range(len(data_fin)):\n",
    "    for j in range (len(data_fin[i])):\n",
    "        if data_fin[i][j] == 'N':\n",
    "            print(i)\n",
    "            print(data_fin[i])"
   ]
  },
  {
   "cell_type": "markdown",
   "id": "3dcf4fd3-d357-43fb-8e4b-362a4e5409de",
   "metadata": {},
   "source": [
    "Обучение модели"
   ]
  },
  {
   "cell_type": "code",
   "execution_count": 40,
   "id": "443ca224-2f70-48d7-90b1-4142b9846d47",
   "metadata": {},
   "outputs": [],
   "source": [
    "lang_model = LanguageNgramModel(1)\n",
    "data_str = ''\n",
    "lang_model.fit(data_str.join(data_fin[:]))"
   ]
  },
  {
   "cell_type": "markdown",
   "id": "d4faff22-181a-41b6-b50d-6cc7889a45bc",
   "metadata": {},
   "source": [
    "Тестирование"
   ]
  },
  {
   "cell_type": "code",
   "execution_count": 42,
   "id": "ba0c7a94-febb-4247-85ed-2708f461eaaf",
   "metadata": {},
   "outputs": [
    {
     "name": "stdout",
     "output_type": "stream",
     "text": [
      "A    0.309232\n",
      "C    0.296412\n",
      "G    0.123872\n",
      "T    0.270483\n",
      "dtype: float64\n",
      "||||||||||||||||||\n",
      "Следующая буква A с вероятностью: 0.309\n"
     ]
    },
    {
     "name": "stderr",
     "output_type": "stream",
     "text": [
      "C:\\Users\\khahi\\AppData\\Local\\Temp/ipykernel_9172/582917352.py:30: DeprecationWarning: The default dtype for empty Series will be 'object' instead of 'float64' in a future version. Specify a dtype explicitly to silence this warning.\n",
      "  freq = pd.Series(index=self.vocabulary_)\n"
     ]
    }
   ],
   "source": [
    "answer = lang_model.predict_proba('CGTAACGTGAACATCTTTAAATTC')\n",
    "print(answer)\n",
    "print('||||||||||||||||||')\n",
    "if (answer.argmax() == 0):\n",
    "    print('Следующая буква A с вероятностью: %.3f' %max(answer))\n",
    "elif (answer.argmax() == 1):\n",
    "    print('Следующая буква C с вероятностью: %.3f' %max(answer))\n",
    "elif (answer.argmax() == 2):\n",
    "    print('Следующая буква T с вероятностью: %.3f' %max(answer))\n",
    "else:\n",
    "    print('Следующая буква G с вероятностью: %.3f' %max(answer))"
   ]
  },
  {
   "cell_type": "code",
   "execution_count": null,
   "id": "a6a3ddaa-66ac-4630-b7d6-40ca65da7ba5",
   "metadata": {},
   "outputs": [],
   "source": []
  }
 ],
 "metadata": {
  "kernelspec": {
   "display_name": "Python 3 (ipykernel)",
   "language": "python",
   "name": "python3"
  },
  "language_info": {
   "codemirror_mode": {
    "name": "ipython",
    "version": 3
   },
   "file_extension": ".py",
   "mimetype": "text/x-python",
   "name": "python",
   "nbconvert_exporter": "python",
   "pygments_lexer": "ipython3",
   "version": "3.9.7"
  }
 },
 "nbformat": 4,
 "nbformat_minor": 5
}
